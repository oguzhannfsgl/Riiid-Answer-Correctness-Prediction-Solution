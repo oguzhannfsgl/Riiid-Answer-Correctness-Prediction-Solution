{
  "nbformat": 4,
  "nbformat_minor": 0,
  "metadata": {
    "colab": {
      "name": "Riiid-Test.ipynb",
      "provenance": []
    },
    "kernelspec": {
      "name": "python3",
      "display_name": "Python 3"
    },
    "language_info": {
      "name": "python"
    },
    "accelerator": "GPU"
  },
  "cells": [
    {
      "cell_type": "code",
      "source": [
        "!git clone https://github.com/oguzhannfsgl/Riiid-Answer-Correctness-Prediction-Solution"
      ],
      "metadata": {
        "colab": {
          "base_uri": "https://localhost:8080/"
        },
        "id": "ulDe4-uNl14r",
        "outputId": "4a5a9b40-3b71-4c72-8309-c28b77b64559"
      },
      "execution_count": 1,
      "outputs": [
        {
          "output_type": "stream",
          "name": "stdout",
          "text": [
            "Cloning into 'Riiid-Answer-Correctness-Prediction-Solution'...\n",
            "remote: Enumerating objects: 14, done.\u001b[K\n",
            "remote: Counting objects: 100% (14/14), done.\u001b[K\n",
            "remote: Compressing objects: 100% (14/14), done.\u001b[K\n",
            "remote: Total 14 (delta 2), reused 0 (delta 0), pack-reused 0\u001b[K\n",
            "Unpacking objects: 100% (14/14), done.\n"
          ]
        }
      ]
    },
    {
      "cell_type": "code",
      "source": [
        "!gdown --folder https://drive.google.com/drive/folders/1qg_xHM9Qf3kUvMBiTuiDJPRdZNXSkEva?usp=sharing\n",
        "!unzip /content/riiid/riiid-array-dataset.zip -d /content/riiid\n",
        "!rm /content/riiid/riiid-array-dataset.zip"
      ],
      "metadata": {
        "colab": {
          "base_uri": "https://localhost:8080/"
        },
        "id": "h56lirVFVNRJ",
        "outputId": "c043832c-b412-491e-824d-5db8e61d1699"
      },
      "execution_count": 2,
      "outputs": [
        {
          "output_type": "stream",
          "name": "stdout",
          "text": [
            "Retrieving folder list\n",
            "Processing file 1wKp6l47YjC9Mg8rTNXpg2GGhAKG6zqWp riiid-array-dataset.zip\n",
            "Retrieving folder list completed\n",
            "Building directory structure\n",
            "Building directory structure completed\n",
            "Downloading...\n",
            "From: https://drive.google.com/uc?id=1wKp6l47YjC9Mg8rTNXpg2GGhAKG6zqWp\n",
            "To: /content/riiid/riiid-array-dataset.zip\n",
            "100% 850M/850M [00:03<00:00, 232MB/s]\n",
            "Download completed\n",
            "Archive:  /content/riiid/riiid-array-dataset.zip\n",
            "  inflating: /content/riiid/exercise_2_tag.npy  \n",
            "  inflating: /content/riiid/train_answers.npy  \n",
            "  inflating: /content/riiid/train_decoder_input.npy  \n",
            "  inflating: /content/riiid/train_elapsed_time.npy  \n",
            "  inflating: /content/riiid/train_exercises.npy  \n",
            "  inflating: /content/riiid/train_interval_mean.npy  \n",
            "  inflating: /content/riiid/train_lag_time.npy  \n",
            "  inflating: /content/riiid/train_mask.npy  \n",
            "  inflating: /content/riiid/train_parts.npy  \n",
            "  inflating: /content/riiid/valid_answers.npy  \n",
            "  inflating: /content/riiid/valid_decoder_input.npy  \n",
            "  inflating: /content/riiid/valid_elapsed_time.npy  \n",
            "  inflating: /content/riiid/valid_exercises.npy  \n",
            "  inflating: /content/riiid/valid_interval_mean.npy  \n",
            "  inflating: /content/riiid/valid_lag_time.npy  \n",
            "  inflating: /content/riiid/valid_mask.npy  \n",
            "  inflating: /content/riiid/valid_parts.npy  \n"
          ]
        }
      ]
    },
    {
      "cell_type": "code",
      "source": [
        "import os\n",
        "os.chdir(\"/content/Riiid-Answer-Correctness-Prediction-Solution\")\n",
        "os.getcwd()"
      ],
      "metadata": {
        "id": "188sTewRpq7n",
        "colab": {
          "base_uri": "https://localhost:8080/",
          "height": 35
        },
        "outputId": "9d65a81b-a4cb-42ce-9b82-1d2eca4a24b9"
      },
      "execution_count": 3,
      "outputs": [
        {
          "output_type": "execute_result",
          "data": {
            "text/plain": [
              "'/content/Riiid-Answer-Correctness-Prediction-Solution'"
            ],
            "application/vnd.google.colaboratory.intrinsic+json": {
              "type": "string"
            }
          },
          "metadata": {},
          "execution_count": 3
        }
      ]
    },
    {
      "cell_type": "code",
      "source": [
        "!python train.py"
      ],
      "metadata": {
        "id": "DZnEANqJrC8X"
      },
      "execution_count": null,
      "outputs": []
    },
    {
      "cell_type": "code",
      "source": [
        ""
      ],
      "metadata": {
        "id": "N9gXCXM6rOdG"
      },
      "execution_count": null,
      "outputs": []
    }
  ]
}